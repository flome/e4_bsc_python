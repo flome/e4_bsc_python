{
 "cells": [
  {
   "cell_type": "markdown",
   "metadata": {},
   "source": [
    "# Automatisieren von Fehlerrechnung"
   ]
  },
  {
   "cell_type": "markdown",
   "metadata": {},
   "source": [
    "- Gesucht: Unsicherheit von  $f(x_1,… x_m)$ , wenn  $x_i$  Unsicherheiten haben \\\n",
    "- Gaußsche Fehlerfortpflanzung:\n",
    "$$\\sigma_f = \\sqrt{ \\sum_{i=1}^m{\\left(\\frac{\\partial f}{\\partial x_i}\\right)^2 \\sigma_{x_i}^2}   }$$\n",
    "\n",
    "- Manuelle Fehlerfortpflanzung:\n",
    "    1. Berechne die Ableitungen von  𝑓  nach allen fehlerbehafteten Größen  𝑥𝑖 \n",
    "    2. Ableitungen in die obere Formel einsetzen\n",
    "    3. Werte und Unsicherheiten der  𝑥𝑖  einsetzen\n",
    "- Probleme:\n",
    "    - Kompliziert, dauert lange, man macht oft Fehler\n",
    "    - Falsches Ergebnis, wenn  𝑥𝑖  korreliert sind, dann erweiterte Fehlerfortpflanzung:\n",
    "    $$ \\sigma_f = \\sqrt{ \\sum_{i=1}^m{\\left(\\frac{\\partial f}{\\partial x_i}\\right)^2 \\sigma_{x_i}^2} + \\sum_{j≠k}{\\frac{\\partial f}{\\partial x_j} \\frac{\\partial f}{\\partial x_k} cov(x_j, x_k)}   }   $$\n",
    "    - $cov(x_j, x_k)$  sind die Einträge der Kovarianzmatrix und beschreiben die Korrelation zwischen den Unsicherheiten von $x_j$ und $x_k$\n",
    "    - konkret für zwei Messgrößen x, y, die  𝑁  mal gemessen wurden:\n",
    "    $$ cov(x_j, x_k) = \\frac{\\sum_{i=1}^N{(x_i - \\bar{x}) (y_i - \\bar{y})} }{N}  $$\n",
    " \n"
   ]
  },
  {
   "cell_type": "markdown",
   "metadata": {},
   "source": [
    "# Uncertainties\n",
    "*Für mehr technische Details: https://pythonhosted.org/uncertainties/index.html*"
   ]
  },
  {
   "cell_type": "code",
   "execution_count": null,
   "metadata": {},
   "outputs": [],
   "source": [
    "import uncertainties\n",
    "import numpy as np"
   ]
  },
  {
   "cell_type": "markdown",
   "metadata": {},
   "source": [
    "- Erlaubt es, Fehlerrechnung automatisch durchzuführen\n",
    "- Datentyp: `ufloat(x, x_error)`, repräsentiert Wert mit Unsicherheit "
   ]
  },
  {
   "cell_type": "code",
   "execution_count": null,
   "metadata": {},
   "outputs": [],
   "source": [
    "from uncertainties import ufloat\n",
    "\n",
    "x = ufloat(8, 1)\n",
    "y = ufloat(3, 1)\n",
    "\n",
    "x + y"
   ]
  },
  {
   "cell_type": "markdown",
   "metadata": {},
   "source": [
    "### Erstellen von Zahlen mit uncertainties\n",
    "- Zahlen können sowohl numerisch eingegeben werden, als auch aus String Darstellungen konvertiert werden\n",
    "- Verschiedene Darstellungsweisen für einen Ausdruck möglich, Bsp.: x = 0.20±0.01"
   ]
  },
  {
   "cell_type": "code",
   "execution_count": null,
   "metadata": {},
   "outputs": [],
   "source": [
    "x = ufloat(0.20, 0.01) # x = 0.20+/-0.01"
   ]
  },
  {
   "cell_type": "code",
   "execution_count": null,
   "metadata": {},
   "outputs": [],
   "source": [
    "from uncertainties import ufloat_fromstr\n",
    "x = ufloat_fromstr(\"0.20+/-0.01\")\n",
    "x = ufloat_fromstr(\"(2+/-0.1)e-01\")  # Faktorisierter Exponent\n",
    "x = ufloat_fromstr(\"0.20(1)\")  # Kurzschreibweise\n",
    "x = ufloat_fromstr(\"20(1)e-2\")  # Exponentenschreibweise\n",
    "x = ufloat_fromstr(u\"0.20±0.01\")  # Hübsche Druckschreibweise\n",
    "x = ufloat_fromstr(\"0.20\")  # Austomatisierte Unsicherheit von +/- 1 an der letzten Stelle"
   ]
  },
  {
   "cell_type": "markdown",
   "metadata": {},
   "source": [
    "### Basic math\n",
    "- direkte Berechnung mit reellen Zahlen:"
   ]
  },
  {
   "cell_type": "code",
   "execution_count": null,
   "metadata": {},
   "outputs": [],
   "source": [
    "square = x**2\n",
    "print(square)\n",
    "half = x/2\n",
    "print(half)"
   ]
  },
  {
   "cell_type": "markdown",
   "metadata": {},
   "source": [
    "- Mathematische Operationen:"
   ]
  },
  {
   "cell_type": "code",
   "execution_count": null,
   "metadata": {},
   "outputs": [],
   "source": [
    "from uncertainties.umath import *  # Importiert sin(), etc., siehe: https://pydoc.net/uncertainties/3.0.2/uncertainties.umath_core/\n",
    "sin(x**2)\n",
    "exp(x)"
   ]
  },
  {
   "cell_type": "markdown",
   "metadata": {},
   "source": [
    "- Korrelationen zwischen Variablen werden automatisch behandelt, unabhängig von der Anzahl der beteiligten Variablen und der Komplexität der Berechnung."
   ]
  },
  {
   "cell_type": "code",
   "execution_count": null,
   "metadata": {},
   "outputs": [],
   "source": [
    "x = ufloat(3, 1)\n",
    "y = ufloat(3, 1)\n",
    "\n",
    "print(x - y)\n",
    "print(x - x) # error is zero!\n",
    "\n",
    "print(x == y)"
   ]
  },
  {
   "cell_type": "markdown",
   "metadata": {},
   "source": [
    "### Arrays mit Zahlen und Unsicherheiten\n",
    "- Es ist möglich Zahlen mit Unsicherheiten in `np.array` oder Matrizen hinzuzufügen"
   ]
  },
  {
   "cell_type": "code",
   "execution_count": null,
   "metadata": {},
   "outputs": [],
   "source": [
    "arr = np.array([ufloat(1, 0.01), ufloat(2, 0.1)])\n",
    "print(2 * arr)\n",
    "print(arr.sum())"
   ]
  },
  {
   "cell_type": "markdown",
   "metadata": {},
   "source": [
    "- Komplexere Operationen könnnen durch ein ergänzendes Modul `uncertainties.unumpy` durchgeführt werden\n",
    "- **Achtung!** Es müssen die Funktionen/ Operatoren aus unumpy benutzt werden (Bsp.: `unp.sin` etc.)"
   ]
  },
  {
   "cell_type": "code",
   "execution_count": null,
   "metadata": {},
   "outputs": [],
   "source": [
    "import uncertainties.unumpy as unp\n",
    "\n",
    "x = [1, 2, 3, 4, 5]\n",
    "err = [0.1, 0.3, 0.1, 0.8, 1.0]\n",
    "\n",
    "y = unp.uarray(x, err)\n",
    "\n",
    "unp.cos(unp.exp(y))"
   ]
  },
  {
   "cell_type": "markdown",
   "metadata": {},
   "source": [
    "### Zugriff auf Wert und Standardabweichung\n",
    "- Bei `ufloat` mit `n` und `s`:"
   ]
  },
  {
   "cell_type": "code",
   "execution_count": null,
   "metadata": {},
   "outputs": [],
   "source": [
    "x = ufloat(5, 1)\n",
    "print(x.n)\n",
    "print(x.s)"
   ]
  },
  {
   "cell_type": "markdown",
   "metadata": {},
   "source": [
    "- Bei `unumpy` mit `nominal_values` und `std_devs`:"
   ]
  },
  {
   "cell_type": "code",
   "execution_count": null,
   "metadata": {},
   "outputs": [],
   "source": [
    "x = unp.uarray([1, 2, 3], [0.3, 0.3, 0.1])\n",
    "print(unp.nominal_values(x))\n",
    "print(unp.std_devs(x))"
   ]
  },
  {
   "cell_type": "markdown",
   "metadata": {},
   "source": [
    "- Kann man natürlich auch abkürzen:"
   ]
  },
  {
   "cell_type": "code",
   "execution_count": null,
   "metadata": {},
   "outputs": [],
   "source": [
    "from uncertainties.unumpy import (nominal_values as noms,\n",
    "                                  std_devs as stds)\n",
    "\n",
    "print(noms(x))\n",
    "print(stds(x))"
   ]
  },
  {
   "cell_type": "markdown",
   "metadata": {},
   "source": [
    "## Ausgabe von Werten\n",
    "- typische Ausgabeform von Werten:"
   ]
  },
  {
   "cell_type": "code",
   "execution_count": null,
   "metadata": {},
   "outputs": [],
   "source": [
    "x = ufloat(0.20, 0.01)\n",
    "print(x)"
   ]
  },
  {
   "cell_type": "markdown",
   "metadata": {},
   "source": [
    "- Nominal Wert und Unsicherheit haben die gleichen Dimensionen, was es einfacher macht die Werte miteinander zu vergleichen\n",
    "- Ausgabeform kann mit Hilfe von `format()` kontrolliert werden"
   ]
  },
  {
   "cell_type": "code",
   "execution_count": null,
   "metadata": {},
   "outputs": [],
   "source": [
    "print('Result = {:10.2f}'.format(x)) # auf 2 Nachkommastellen gerundet mit zusätzlichem Abstand zwischen den Werten"
   ]
  },
  {
   "cell_type": "markdown",
   "metadata": {},
   "source": [
    "- Wenn bei Unsicherheiten die Anzahl der signifikanten Stellen der Unsicherheit gewählt werden muss, wird sie mit den Rundungsregeln der Particle Data Group definiert (diese Regeln halten die Anzahl der Stellen klein, was für das Ablesen von Zahlen mit Unsicherheiten bequem ist, und verhindern gleichzeitig, dass die Unsicherheit mit zu wenigen Stellen angezeigt wird):"
   ]
  },
  {
   "cell_type": "code",
   "execution_count": null,
   "metadata": {},
   "outputs": [],
   "source": [
    "print('Automatic number of digits on the uncertainty: {}'.format(x))\n",
    "print(x)"
   ]
  },
  {
   "cell_type": "markdown",
   "metadata": {},
   "source": [
    "- Es ist möglich die Anzahl an signifikanten Stellen der Unsicherheit mit Hilfe eines Präzisionsmodifikators `u` einzustellen"
   ]
  },
  {
   "cell_type": "code",
   "execution_count": null,
   "metadata": {},
   "outputs": [],
   "source": [
    "print('1 significant digit on the uncertainty: {:.1u}'.format(x))\n",
    "print('3 significant digits on the uncertainty: {:.3u}'.format(x))\n",
    "print('1 significant digit, exponent notation: {:.1ue}'.format(x))\n",
    "print('1 significant digit, percentage: {:.1u%}'.format(x))"
   ]
  },
  {
   "cell_type": "markdown",
   "metadata": {},
   "source": [
    "### Custom Options\n",
    "- Weitere benutzerdefinierte Einstellungen möglich durch zuätzliche Endungen: `P`, `s`, `L`\n",
    "- `P` für pretty-printing:"
   ]
  },
  {
   "cell_type": "code",
   "execution_count": null,
   "metadata": {},
   "outputs": [],
   "source": [
    "print('{:.2e}'.format(x)) # exponentielle Schreibweise\n",
    "print(u'{:.2eP}'.format(x)) # verschönerte Schreibweise"
   ]
  },
  {
   "cell_type": "markdown",
   "metadata": {},
   "source": [
    "- `s` für Kurzschreibweise:"
   ]
  },
  {
   "cell_type": "code",
   "execution_count": null,
   "metadata": {},
   "outputs": [],
   "source": [
    "print('{:+.1uS}'.format(x)) # Eine signignifikante Stelle für Unsicherheit"
   ]
  },
  {
   "cell_type": "markdown",
   "metadata": {},
   "source": [
    "- `L` für LaTeX-Schreibweise:"
   ]
  },
  {
   "cell_type": "code",
   "execution_count": null,
   "metadata": {},
   "outputs": [],
   "source": [
    "print(x*1e7)\n",
    "print('{:L}'.format(x*1e7)) # Automatisierte Exponentenschreibweise"
   ]
  },
  {
   "cell_type": "markdown",
   "metadata": {},
   "source": [
    "# Aufgabe \n",
    "Es sind einige fehlerbehaftete Messwerte gegeben:\n",
    "\n",
    "x = 4.56 ± 0.2\\\n",
    "y = 2.11 ± 0.3\\\n",
    "z = 10 ± 1\n",
    "\n",
    "Es soll nun der Fehler auf folgende Größe bestimmt werden:\n",
    "\n",
    "Q = x² sin(y) + z\n",
    "\n",
    "1. Berechne den Fehler manuell. Rechne dazu die Ableitungen von Q nach x, y und z aus und setze sie in die Formel für Gauß'sche Fehlerfortpflanzung ein. (siehe Skript)\n",
    "Setze nun die Messwerte und ihre Fehler ein. (Dazu kannst du IPython als Taschenrechner benutzen)\n",
    "2. Berechne den Fehler mit uncertainties und vergleiche die beiden Ergebnisse.\n",
    "\n"
   ]
  },
  {
   "cell_type": "code",
   "execution_count": null,
   "metadata": {},
   "outputs": [],
   "source": [
    "from uncertainties import ufloat\n",
    "from uncertainties.unumpy import sin\n",
    "\n",
    "x = ufloat(4.56, 0.2)\n",
    "y = ufloat(2.11, 0.3)\n",
    "z = ufloat(10, 1)\n",
    "\n",
    "Q = x**2 * sin(y) + z\n",
    "\n",
    "print(f'Q = {Q}')"
   ]
  },
  {
   "cell_type": "markdown",
   "metadata": {},
   "source": [
    "# Aufgabe 2\n",
    "Gegeben ist eine Messung mit den ermittelten Unsicherheiten.\n",
    "\n",
    "x = [0 ,  1.39 ,  2.79 ,  4.18 ,  5.58,  6.98,  8.37,  9.77, 11.17, 12.56]\\\n",
    "x_err = [0.60 , 0.24,  0.17,  0.40,  0.16, 0.47, 0.57,  0.35, 0.19, 0.46 ]\n",
    "\n",
    "Berechne mit diesen Werten die Funktion: $$f(x) = sin(x)^2 $$\n",
    "und plotte anschließend mit den resultierenden Unsicherheiten. Stelle zusätzlich die zu berechnende Funktion als Referenz zu den Messwerten dar.\n",
    "Achte darauf, dass du alle notwedigen Pakete geladen hast. \n",
    "Ziel ist es die eben gelerneten Methoden anzuwenden. "
   ]
  },
  {
   "cell_type": "code",
   "execution_count": null,
   "metadata": {},
   "outputs": [],
   "source": [
    "import numpy as np\n",
    "from uncertainties import ufloat\n",
    "import uncertainties.unumpy as unp\n",
    "import matplotlib.pyplot as plt\n",
    "x = np.array([ 0. ,  1.39 ,  2.79 ,  4.18 ,  5.58,  6.98,  8.37,  9.77, 11.17, 12.56])\n",
    "x_err = np.array([0.60 , 0.24,  0.17,  0.40,  0.16,  0.47, 0.57,  0.35, 0.19, 0.46 ])\n",
    "\n",
    "x_comp = unp.uarray(x, x_err)\n",
    "\n",
    "fx = unp.sin(x_comp)\n",
    "c = np.linspace(0, 4*np.pi, 500)\n",
    "plt.grid()\n",
    "plt.errorbar(x, unp.nominal_values(fx), yerr= unp.std_devs(fx), xerr= unp.std_devs(x_comp), fmt=' ', label= 'Messwerte')\n",
    "plt.plot(c, sin(c), label='Referenz')\n",
    "plt.legend(loc='best')\n",
    "plt.xlabel('x')\n",
    "plt.ylabel('f(x)')\n",
    "plt.show()"
   ]
  },
  {
   "cell_type": "markdown",
   "metadata": {},
   "source": [
    "# Abschlussaufgabe\n",
    "\n",
    "In dieser Aufgabe sollen alle wichtigen Python Packages angewendet werden. \n",
    "### Teil 1:\n",
    "- Erstelle zunächst eine Zahlenfolge x in einem Intervall von [0, 5] mit 50 Einträgen\n",
    "- Die Zahlenfolge x ist fehlerbehaftet. Generiere zufällige Fehlerwerte für x, wobei µ = 0, sigma = 0.2 und die Anzahl an Eiträgen ist identisch zu x\n",
    "- Randomisiere abschließend x mit Hilfe einer Normalverteilung\n",
    "- Wiederhole die Schritte für die Zahlenfolge y, jedoch sollen nun die y-Werte mit Hilfe einer Normalverteilung zufällig generiert werden, dabei ist µ = x**2 und sigma = 0.6\n",
    "- Die Zahlenfolge y ist fehlerbehaftet. Generiere zufällige Fehlerwerte für x, wobei µ = 0, sigma = 0.5 und die Anzahl an Eiträgen ist identisch zu y\n",
    "- Randomisiere abschließend y mit Hilfe einer Normalverteilung\n",
    "\n",
    "### Teil 2:\n",
    "- Fitte mit Hilfe von scipy.odr eine quadratische Funktion an deine Messwerte\n",
    "- Definiere zunächst die passende Fitfunktion mit den notwendigen Parametern\n",
    "- Führe anschließend die restlichen für den Fit notwendigen Schritte aus\n",
    "\n",
    "### Teil 3:\n",
    "- Speicher die Fitparameter und deren Standardabweichung mit Hilfe von uncertainties in einem passenden Zahlenformat\n",
    "- Gebe die Fitparameter in der LaTeX Schreibweise aus und speicher die Werte in einer csv Datei ab\n",
    "\n",
    "### Teil 4: \n",
    "- Stelle die generierten Datenpunkte und die Fitfunktion Graphisch dar\n",
    "- Zusätzlich zur Fitfunktion soll die 1, 2, 3 Sigma Abweichung ebenfalls mit dargestellt werden\n",
    "- Achte dabei, dass du deine Datenpunkte und Kurven beschriftest, damit eine Unterscheidung möglich ist\n",
    "- Speichere deinen Plot am Ende ab."
   ]
  },
  {
   "cell_type": "code",
   "execution_count": null,
   "metadata": {},
   "outputs": [],
   "source": [
    "import numpy as np\n",
    "from uncertainties import ufloat\n",
    "import uncertainties.unumpy as unp\n",
    "import matplotlib.pyplot as plt\n",
    "from uncertainties.unumpy import (nominal_values as noms, std_devs as stds)\n",
    "from scipy.odr import *\n",
    "import csv\n",
    "\n",
    "#generate test data\n",
    "n = 50\n",
    "x = np.linspace(0, 5, n)\n",
    "xerr = np.abs(np.random.normal(0, 0.2, n)) # random value from a gaussian distribution (µ, sigma, number of values)\n",
    "x = np.random.normal(x, xerr, n)\n",
    "\n",
    "y = np.random.normal(x**2, 0.6)\n",
    "yerr = np.abs(np.random.normal(0, 0.5, n))\n",
    "y = np.random.normal(y, yerr) \n",
    "\n",
    "def odr_line(p, x): #Attention, input parameters have a special order! \n",
    "    #First: Array of fitparamters p\n",
    "    #Second: Array of x values\n",
    "    \n",
    "    # unpack the parameters from array:\n",
    "    a,b=p\n",
    "    y = a*x**2 + b\n",
    "    return y\n",
    "\n",
    "#fit\n",
    "linear = Model(odr_line) # pass the model to be used. In our case a linear function\n",
    "mydata = RealData(x, y, sx=xerr, sy=yerr) #sx, sy : array_like, optional Standard deviations of x and y \n",
    "myodr = ODR(mydata, linear, beta0=[0,0]) # start parameter are not optional\n",
    "output = myodr.run() # run fit \n",
    "print('Fit parameters',output.beta) # get fit parameters\n",
    "print('Standard deviations',output.sd_beta) # get standard deviation of fit parameters\n",
    "\n",
    "A=ufloat(output.beta[0],output.sd_beta[0])\n",
    "B=ufloat(output.beta[1],output.sd_beta[1])\n",
    "\n",
    "#im LaTeX Format Fitparameter ausgeben: \n",
    "print('A = {:L}'.format(A))\n",
    "print('B = {:L}'.format(B))\n",
    "# in csv abspeichern\n",
    "with open('Fitparameter.csv', mode='w') as Fitparameter_file:\n",
    "    Fitparameter_writer = csv.writer(Fitparameter_file, delimiter = ',')\n",
    "    Fitparameter_writer.writerow('A = {:L}'.format(A))\n",
    "    Fitparameter_writer.writerow('B = {:L}'.format(B))\n",
    "    \n",
    "\n",
    "#Fitlinie und Sigma bestimmen\n",
    "y_fit=odr_line(output.beta, x)\n",
    "sigma=stds(odr_line([A, B], x))\n",
    "\n",
    "# Plot der Funktion\n",
    "plt.figure(figsize=(11, 7))\n",
    "plt.errorbar(x,y,xerr=xerr, yerr=yerr, fmt='o', label='data', alpha=0.6)\n",
    "plt.plot(x, odr_line(output.beta, x), 'r-', label='fit')\n",
    "\n",
    "plt.plot(x, y_fit+1*sigma, 'g--', label=r'1$\\pm\\sigma$')\n",
    "plt.plot(x, y_fit+2*sigma, 'm--', label=r'2$\\pm\\sigma$')\n",
    "plt.plot(x, y_fit+3*sigma, 'c--', label=r'3$\\pm\\sigma$')\n",
    "plt.plot(x, y_fit-1*sigma, 'g--')\n",
    "plt.plot(x, y_fit-2*sigma, 'm--')\n",
    "plt.plot(x, y_fit-3*sigma, 'c--')\n",
    "#plt.errorbar(x, y, yerr= yerr, xerr= xerr, fmt=' ', label= 'Messwerte')\n",
    "plt.legend(loc= 'best')\n",
    "# make things look nice if something has gone wrong\n",
    "plt.tight_layout()\n",
    "plt.show()\n",
    "# save to file\n",
    "plt.savefig('plot.png')\n"
   ]
  },
  {
   "cell_type": "code",
   "execution_count": null,
   "metadata": {},
   "outputs": [],
   "source": []
  }
 ],
 "metadata": {
  "kernelspec": {
   "display_name": "Python 3",
   "language": "python",
   "name": "python3"
  },
  "language_info": {
   "codemirror_mode": {
    "name": "ipython",
    "version": 3
   },
   "file_extension": ".py",
   "mimetype": "text/x-python",
   "name": "python",
   "nbconvert_exporter": "python",
   "pygments_lexer": "ipython3",
   "version": "3.7.4"
  }
 },
 "nbformat": 4,
 "nbformat_minor": 4
}
